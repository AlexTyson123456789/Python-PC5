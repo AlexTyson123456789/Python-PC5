{
 "cells": [
  {
   "cell_type": "markdown",
   "metadata": {},
   "source": [
    "# Ejercicio - Busqueda de Alojamiento en Airbnb.\n",
    "\n",
    "Supongamos que somos un agente de [Airbnb](http://www.airbnb.com) localizado en Lisboa, y tenemos que atender peticiones de varios clientes. Tenemos un archivo llamado `airbnb.csv` (en la carpeta data) donde tenemos información de todos los alojamientos de Airbnb en Lisboa."
   ]
  },
  {
   "cell_type": "code",
   "execution_count": 2,
   "metadata": {},
   "outputs": [],
   "source": [
    "import pandas as pd\n",
    "df_airbnb = pd.read_csv(\"./src/airbnb.csv\")"
   ]
  },
  {
   "cell_type": "code",
   "execution_count": 9,
   "metadata": {},
   "outputs": [],
   "source": [
    "#df_airbnb.head()"
   ]
  },
  {
   "cell_type": "code",
   "execution_count": 10,
   "metadata": {},
   "outputs": [],
   "source": [
    "#df_airbnb.dtypes"
   ]
  },
  {
   "cell_type": "markdown",
   "metadata": {},
   "source": [
    "En concreto el dataset tiene las siguientes variables:\n",
    "- room_id: el identificador de la propiedad\n",
    "- host_id: el identificador del dueño de la propiedad\n",
    "- room_type: tipo de propiedad (vivienda completa/(habitacion para compartir/habitación privada)\n",
    "- neighborhood: el barrio de Lisboa\n",
    "- reviews: El numero de opiniones\n",
    "- overall_satisfaction: Puntuacion media del apartamento\n",
    "- accommodates: El numero de personas que se pueden alojar en la propiedad\n",
    "- bedrooms: El número de habitaciones\n",
    "- price: El precio (en euros) por noche"
   ]
  },
  {
   "cell_type": "markdown",
   "metadata": {},
   "source": [
    "## Usando Pandas"
   ]
  },
  {
   "cell_type": "markdown",
   "metadata": {},
   "source": [
    "### Caso 1.\n",
    "\n",
    "Alicia va a ir a Lisboa durante una semana con su marido y sus 2 hijos. Están buscando un apartamento con habitaciones separadas para los padres y los hijos. No les importa donde alojarse o el precio, simplemente quieren tener una experiencia agradable. Esto significa que solo aceptan lugares con más de 10 críticas con una puntuación mayor de 4. Cuando seleccionemos habitaciones para Alicia, tenemos que asegurarnos de ordenar las habitaciones de mejor a peor puntuación. Para aquellas habitaciones que tienen la misma puntuación, debemos mostrar antes aquellas con más críticas. Debemos darle 3 alternativas."
   ]
  },
  {
   "cell_type": "code",
   "execution_count": 11,
   "metadata": {},
   "outputs": [
    {
     "name": "stdout",
     "output_type": "stream",
     "text": [
      "     room_id        room_type       neighborhood  overall_satisfaction  \\\n",
      "120   176153  Entire home/apt       Misericórdia                   5.0   \n",
      "16     44043  Entire home/apt  Santa Maria Maior                   5.0   \n",
      "140   202150  Entire home/apt  Santa Maria Maior                   5.0   \n",
      "\n",
      "     reviews  price  \n",
      "120      438  102.0  \n",
      "16       316   80.0  \n",
      "140      274   62.0  \n"
     ]
    }
   ],
   "source": [
    "#--------------------------------------SOLUCION PARA EL CASO 1:------------------------------------------------\n",
    "\n",
    "# promero se filtra los alojamientos para Alicia\n",
    "alicias_options = df_airbnb[\n",
    "    (df_airbnb['accommodates'] >= 4) &  # Para la familia de Alicia\n",
    "    (df_airbnb['bedrooms'] >= 2) &  # Habitaciones separadas\n",
    "    (df_airbnb['reviews'] > 10) &  # Más de 10 críticas\n",
    "    (df_airbnb['overall_satisfaction'] > 4)  # Puntuación mayor de 4\n",
    "]\n",
    "\n",
    "# aqui se ordena x puntuacion/cantidadd de criticas \n",
    "alicias_options = alicias_options.sort_values(by=['overall_satisfaction', 'reviews'], ascending=[False, False])\n",
    "\n",
    "# se escoge las mejores 3 opciones\n",
    "top_3_options = alicias_options.head(3)\n",
    "\n",
    "# mostramos als TOP-3 alternativas para Alicia\n",
    "print(top_3_options[['room_id', 'room_type', 'neighborhood', 'overall_satisfaction', 'reviews', 'price']])\n"
   ]
  },
  {
   "cell_type": "markdown",
   "metadata": {},
   "source": [
    "### Caso 2\n",
    "\n",
    "Roberto es un casero que tiene una casa en Airbnb. De vez en cuando nos llama preguntando sobre cuales son las críticas de su alojamiento. Hoy está particularmente enfadado, ya que su hermana Clara ha puesto una casa en Airbnb y Roberto quiere asegurarse de que su casa tiene más críticas que las de Clara. Tenemos que crear un dataframe con las propiedades de ambos. Las id de las casas de Roberto y Clara son 97503 y 90387  respectivamente. Finalmente guardamos este dataframe como excel llamado \"roberto.xls"
   ]
  },
  {
   "cell_type": "code",
   "execution_count": 20,
   "metadata": {},
   "outputs": [
    {
     "name": "stdout",
     "output_type": "stream",
     "text": [
      "Empty DataFrame\n",
      "Columns: [room_id, host_id, room_type, neighborhood, reviews, overall_satisfaction, accommodates, bedrooms, price]\n",
      "Index: []\n"
     ]
    }
   ],
   "source": [
    "#--------------------------------------SOLUCION PARA EL CASO 2:------------------------------------------------\n",
    "\n",
    "# ID de Roberto y Clara\n",
    "roberto_id = 97503\n",
    "clara_id = 90387\n",
    "\n",
    "# se crea DataFrame para Roberto y Clara\n",
    "roberto_properties = df_airbnb[df_airbnb['host_id'] == roberto_id]\n",
    "clara_properties = df_airbnb[df_airbnb['host_id'] == clara_id]\n",
    "\n",
    "# usamos concatenar los DataFrames de Roberto y Clara\n",
    "roberto_clara_df = pd.concat([roberto_properties, clara_properties])\n",
    "\n",
    "# se guerda el DataFrame como un archivo Excel \n",
    "roberto_clara_df.to_excel('roberto.xls', index=False, engine='openpyxl')\n",
    "\n",
    "# se imprime el nuevo DataFrame\n",
    "print(roberto_clara_df)\n"
   ]
  },
  {
   "cell_type": "markdown",
   "metadata": {},
   "source": [
    "\n",
    "### Caso 3\n",
    "\n",
    "Diana va a Lisboa a pasar 3 noches y quiere conocer a gente nueva. Tiene un presupuesto de 50€ para su alojamiento. Debemos buscarle las 10 propiedades más baratas, dandole preferencia a aquellas que sean habitaciones compartidas *(room_type == Shared room)*, y para aquellas viviendas compartidas debemos elegir aquellas con mejor puntuación."
   ]
  },
  {
   "cell_type": "code",
   "execution_count": 21,
   "metadata": {
    "tags": []
   },
   "outputs": [
    {
     "name": "stdout",
     "output_type": "stream",
     "text": [
      "        room_id    host_id    room_type       neighborhood  \\\n",
      "1010    1179457    5799522  Shared room      Santo António   \n",
      "3562    5557699   28812904  Shared room  Santa Maria Maior   \n",
      "7584   13116032   72951043  Shared room            Arroios   \n",
      "13148  19314160  135270245  Shared room        Santa Clara   \n",
      "9065   14933182   91501272  Shared room      Santo António   \n",
      "4353    6728244   28812904  Shared room  Santa Maria Maior   \n",
      "5616    9317561   48360716  Shared room            Arroios   \n",
      "6640   11693356   28812904  Shared room  Santa Maria Maior   \n",
      "6641   11693442   28812904  Shared room  Santa Maria Maior   \n",
      "8908   14708916   91501272  Shared room      Santo António   \n",
      "\n",
      "       overall_satisfaction  reviews  price  \n",
      "1010                    4.0       42   10.0  \n",
      "3562                    4.0       22   10.0  \n",
      "7584                    0.0        1   10.0  \n",
      "13148                   0.0        0   10.0  \n",
      "9065                    5.0        5   11.0  \n",
      "4353                    4.5        8   11.0  \n",
      "5616                    4.5       13   11.0  \n",
      "6640                    4.5        3   11.0  \n",
      "6641                    4.5       16   11.0  \n",
      "8908                    4.5       18   11.0  \n"
     ]
    }
   ],
   "source": [
    "#--------------------------------------SOLUCION PARA EL CASO 3:------------------------------------------------\n",
    "\n",
    "# se filtr alojamientos para diana\n",
    "diana_options = df_airbnb[\n",
    "    (df_airbnb['accommodates'] >= 1) & \n",
    "    (df_airbnb['price'] <= 50) &  # Presupuesto de 50€\n",
    "    (df_airbnb['room_type'] == 'Shared room')  # Preferencia por habitaciones compartidas\n",
    "]\n",
    "\n",
    "# Ordenar por precio y puntuación \n",
    "diana_options = diana_options.sort_values(by=['price', 'overall_satisfaction'], ascending=[True, False])\n",
    "\n",
    "# se elige 10 opciones más baratas\n",
    "top_10_options = diana_options.head(10)\n",
    "\n",
    "#muestra 10 opciones para Diana\n",
    "print(top_10_options[['room_id', 'host_id', 'room_type', 'neighborhood', 'overall_satisfaction', 'reviews', 'price']])\n"
   ]
  }
 ],
 "metadata": {
  "kernelspec": {
   "display_name": "Python 3 (ipykernel)",
   "language": "python",
   "name": "python3"
  },
  "language_info": {
   "codemirror_mode": {
    "name": "ipython",
    "version": 3
   },
   "file_extension": ".py",
   "mimetype": "text/x-python",
   "name": "python",
   "nbconvert_exporter": "python",
   "pygments_lexer": "ipython3",
   "version": "3.10.13"
  }
 },
 "nbformat": 4,
 "nbformat_minor": 4
}
